{
 "cells": [
  {
   "cell_type": "code",
   "execution_count": 10,
   "id": "b5fc0c28-fc61-42b2-bf46-6925188144f1",
   "metadata": {},
   "outputs": [],
   "source": [
    "#Q2. Given are some following variables containing data:\n",
    "#   (i) var1 = ‘ ‘\n",
    "#  (ii) var2 = ‘[ DS , ML , Python]’\n",
    "# (iii) var3 = [ ‘DS’ , ’ML’ , ‘Python’ ]\n",
    "#  (iv) var4 = 1.\n",
    "# What will be the data type of the above given variable."
   ]
  },
  {
   "cell_type": "code",
   "execution_count": 2,
   "id": "80768c5f-4ef9-4a40-bd8e-6125ac2be918",
   "metadata": {},
   "outputs": [],
   "source": [
    "var1 = ''"
   ]
  },
  {
   "cell_type": "code",
   "execution_count": 3,
   "id": "a0726082-961c-444d-b4c5-8e8244605dbf",
   "metadata": {},
   "outputs": [
    {
     "data": {
      "text/plain": [
       "str"
      ]
     },
     "execution_count": 3,
     "metadata": {},
     "output_type": "execute_result"
    }
   ],
   "source": [
    "type(var1)"
   ]
  },
  {
   "cell_type": "code",
   "execution_count": 4,
   "id": "9cc20871-a9aa-41dc-83b7-61a8ed5e7cc9",
   "metadata": {},
   "outputs": [],
   "source": [
    "var2 = '[ DS , ML , Python]'"
   ]
  },
  {
   "cell_type": "code",
   "execution_count": 5,
   "id": "03338b22-e55d-47b6-8a31-7069d39666dc",
   "metadata": {},
   "outputs": [
    {
     "data": {
      "text/plain": [
       "str"
      ]
     },
     "execution_count": 5,
     "metadata": {},
     "output_type": "execute_result"
    }
   ],
   "source": [
    "type(var2)"
   ]
  },
  {
   "cell_type": "code",
   "execution_count": 6,
   "id": "3645be7b-0685-4f13-93b4-2972ea91055f",
   "metadata": {},
   "outputs": [],
   "source": [
    "var3 = [ 'DS' , 'ML' , 'Python' ]"
   ]
  },
  {
   "cell_type": "code",
   "execution_count": 7,
   "id": "23d9812d-37ee-4736-ba60-4e5867b60bde",
   "metadata": {},
   "outputs": [
    {
     "data": {
      "text/plain": [
       "list"
      ]
     },
     "execution_count": 7,
     "metadata": {},
     "output_type": "execute_result"
    }
   ],
   "source": [
    "type(var3)"
   ]
  },
  {
   "cell_type": "code",
   "execution_count": 8,
   "id": "44f04f7c-4dab-40db-b644-5c9ccfb20921",
   "metadata": {},
   "outputs": [],
   "source": [
    "var4 = 1."
   ]
  },
  {
   "cell_type": "code",
   "execution_count": 9,
   "id": "6e7452e7-1e9f-4eef-be47-c00228f2b87d",
   "metadata": {},
   "outputs": [
    {
     "data": {
      "text/plain": [
       "float"
      ]
     },
     "execution_count": 9,
     "metadata": {},
     "output_type": "execute_result"
    }
   ],
   "source": [
    "type(var4)"
   ]
  },
  {
   "cell_type": "code",
   "execution_count": null,
   "id": "58d3d624-0a1d-401a-a550-5a1ad942d13f",
   "metadata": {},
   "outputs": [],
   "source": []
  }
 ],
 "metadata": {
  "kernelspec": {
   "display_name": "Python 3 (ipykernel)",
   "language": "python",
   "name": "python3"
  },
  "language_info": {
   "codemirror_mode": {
    "name": "ipython",
    "version": 3
   },
   "file_extension": ".py",
   "mimetype": "text/x-python",
   "name": "python",
   "nbconvert_exporter": "python",
   "pygments_lexer": "ipython3",
   "version": "3.10.8"
  }
 },
 "nbformat": 4,
 "nbformat_minor": 5
}
