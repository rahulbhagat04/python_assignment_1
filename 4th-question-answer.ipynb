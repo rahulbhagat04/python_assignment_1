{
 "cells": [
  {
   "cell_type": "code",
   "execution_count": 28,
   "id": "e0ce1e87-3796-4e05-9d04-2995e2d0472d",
   "metadata": {},
   "outputs": [
    {
     "data": {
      "text/plain": [
       "'Q4. Create a list of length 10 of your choice containing multiple types of data. Using for loop print the\\nelement and its data type.'"
      ]
     },
     "execution_count": 28,
     "metadata": {},
     "output_type": "execute_result"
    }
   ],
   "source": [
    "\"\"\"Q4. Create a list of length 10 of your choice containing multiple types of data. Using for loop print the\n",
    "element and its data type.\"\"\""
   ]
  },
  {
   "cell_type": "code",
   "execution_count": 24,
   "id": "73df3cc3-a917-440e-95f9-61bbf676b5ad",
   "metadata": {},
   "outputs": [],
   "source": [
    "l=[1,2,3,{2,3,4,5},(\"cute\",\"sweet\"),\"rahul\",34.5,alse,\"eklabya\",[23,4,5]]"
   ]
  },
  {
   "cell_type": "code",
   "execution_count": 21,
   "id": "f285f077-553b-4fa1-9836-eb1bbad7b0b7",
   "metadata": {},
   "outputs": [
    {
     "data": {
      "text/plain": [
       "[1,\n",
       " 2,\n",
       " 3,\n",
       " {2, 3, 4, 5},\n",
       " ('cute', 'sweet'),\n",
       " 'rahul',\n",
       " 34.5,\n",
       " False,\n",
       " 'eklabya',\n",
       " [23, 4, 5]]"
      ]
     },
     "execution_count": 26,
     "metadata": {},
     "output_type": "execute_result"
    }
   ],
   "source": [
    "l"
   ]
  },
  {
   "cell_type": "code",
   "execution_count": 27,
   "id": "67c0c8f1-a78a-4d19-8a13-549413d317a1",
   "metadata": {},
   "outputs": [
    {
     "name": "stdout",
     "output_type": "stream",
     "text": [
      "1 <class 'int'>\n",
      "2 <class 'int'>\n",
      "3 <class 'int'>\n",
      "{2, 3, 4, 5} <class 'set'>\n",
      "('cute', 'sweet') <class 'tuple'>\n",
      "rahul <class 'str'>\n",
      "34.5 <class 'float'>\n",
      "False <class 'bool'>\n",
      "eklabya <class 'str'>\n",
      "[23, 4, 5] <class 'list'>\n"
     ]
    }
   ],
   "source": [
    "for i in l :\n",
    "    print(i,  type(i))"
   ]
  },
  {
   "cell_type": "code",
   "execution_count": null,
   "id": "bf348608-3bb6-4a02-8c4f-734c6b4bd518",
   "metadata": {},
   "outputs": [],
   "source": []
  }
 ],
 "metadata": {
  "kernelspec": {
   "display_name": "Python 3 (ipykernel)",
   "language": "python",
   "name": "python3"
  },
  "language_info": {
   "codemirror_mode": {
    "name": "ipython",
    "version": 3
   },
   "file_extension": ".py",
   "mimetype": "text/x-python",
   "name": "python",
   "nbconvert_exporter": "python",
   "pygments_lexer": "ipython3",
   "version": "3.10.8"
  }
 },
 "nbformat": 4,
 "nbformat_minor": 5
}
