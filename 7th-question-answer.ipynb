{
 "cells": [
  {
   "cell_type": "code",
   "execution_count": 1,
   "id": "5ff06a90-67da-4555-88ce-279840dbba82",
   "metadata": {},
   "outputs": [],
   "source": [
    "#Q7. What do you understand about mutable and immutable data types? Give examples for both showing\n",
    "#    this property."
   ]
  },
  {
   "cell_type": "code",
   "execution_count": 1,
   "id": "e68ba91a-486e-4ec8-b0ad-ee975fb9419b",
   "metadata": {},
   "outputs": [],
   "source": [
    "arr=\"rahul bhagat\""
   ]
  },
  {
   "cell_type": "code",
   "execution_count": 2,
   "id": "d8122d26-9c66-46e2-a951-879e6f821183",
   "metadata": {},
   "outputs": [],
   "source": [
    "l=[\"pizza\",1,2,3,\"cute\"]"
   ]
  },
  {
   "cell_type": "code",
   "execution_count": 3,
   "id": "3ca8169d-5c0f-4619-b5f5-f22f061546e1",
   "metadata": {},
   "outputs": [
    {
     "data": {
      "text/plain": [
       "str"
      ]
     },
     "execution_count": 3,
     "metadata": {},
     "output_type": "execute_result"
    }
   ],
   "source": [
    "type(arr)"
   ]
  },
  {
   "cell_type": "code",
   "execution_count": 4,
   "id": "97edca32-dc78-45cf-938b-a3a20b84b6df",
   "metadata": {},
   "outputs": [
    {
     "data": {
      "text/plain": [
       "list"
      ]
     },
     "execution_count": 4,
     "metadata": {},
     "output_type": "execute_result"
    }
   ],
   "source": [
    "type(l)"
   ]
  },
  {
   "cell_type": "code",
   "execution_count": 5,
   "id": "30010a64-1358-442a-b52b-3072ae8761bb",
   "metadata": {},
   "outputs": [],
   "source": [
    "#list is a mutable datatype as we can change any value at a index in a list "
   ]
  },
  {
   "cell_type": "code",
   "execution_count": 6,
   "id": "00f992c2-8e30-4375-b05b-fd488ad000b0",
   "metadata": {},
   "outputs": [],
   "source": [
    "#and str is a imutable datatype as we cann't change the value at a index in a str \n",
    "# BUT WE CAN ACCESS THE STR USING INDEX."
   ]
  },
  {
   "cell_type": "code",
   "execution_count": 8,
   "id": "801dc071-a1f6-457d-91ad-ab457ac654ad",
   "metadata": {},
   "outputs": [
    {
     "data": {
      "text/plain": [
       "2"
      ]
     },
     "execution_count": 8,
     "metadata": {},
     "output_type": "execute_result"
    }
   ],
   "source": [
    "l[2]"
   ]
  },
  {
   "cell_type": "code",
   "execution_count": 9,
   "id": "bd75412d-80d3-4160-8111-972fc08f114f",
   "metadata": {},
   "outputs": [],
   "source": [
    "l[2]=\"bhagat\"    # mutable datatype"
   ]
  },
  {
   "cell_type": "code",
   "execution_count": 10,
   "id": "7efbeb06-3d21-4c97-9097-3a6cb5b5be81",
   "metadata": {},
   "outputs": [
    {
     "data": {
      "text/plain": [
       "'bhagat'"
      ]
     },
     "execution_count": 10,
     "metadata": {},
     "output_type": "execute_result"
    }
   ],
   "source": [
    "l[2]"
   ]
  },
  {
   "cell_type": "code",
   "execution_count": 11,
   "id": "5a759083-bec1-41cc-bd01-ed9bc224d23e",
   "metadata": {},
   "outputs": [
    {
     "data": {
      "text/plain": [
       "['pizza', 1, 'bhagat', 3, 'cute']"
      ]
     },
     "execution_count": 11,
     "metadata": {},
     "output_type": "execute_result"
    }
   ],
   "source": [
    "l"
   ]
  },
  {
   "cell_type": "code",
   "execution_count": 12,
   "id": "0f8c106f-c2ab-4475-94dc-942f6df68094",
   "metadata": {},
   "outputs": [
    {
     "data": {
      "text/plain": [
       "'h'"
      ]
     },
     "execution_count": 12,
     "metadata": {},
     "output_type": "execute_result"
    }
   ],
   "source": [
    "arr[2]"
   ]
  },
  {
   "cell_type": "code",
   "execution_count": 15,
   "id": "c9370da4-da4c-43a4-b82b-afa2ea1223a2",
   "metadata": {},
   "outputs": [
    {
     "ename": "TypeError",
     "evalue": "'str' object does not support item assignment",
     "output_type": "error",
     "traceback": [
      "\u001b[0;31m---------------------------------------------------------------------------\u001b[0m",
      "\u001b[0;31mTypeError\u001b[0m                                 Traceback (most recent call last)",
      "Cell \u001b[0;32mIn[15], line 1\u001b[0m\n\u001b[0;32m----> 1\u001b[0m \u001b[43marr\u001b[49m\u001b[43m[\u001b[49m\u001b[38;5;241;43m2\u001b[39;49m\u001b[43m]\u001b[49m\u001b[38;5;241m=\u001b[39m\u001b[38;5;124m\"\u001b[39m\u001b[38;5;124mg\u001b[39m\u001b[38;5;124m\"\u001b[39m    \u001b[38;5;66;03m#error as we cannot change the value at a perticular index in a str as it is a imutable datatype\u001b[39;00m\n",
      "\u001b[0;31mTypeError\u001b[0m: 'str' object does not support item assignment"
     ]
    }
   ],
   "source": [
    "arr[2]=\"g\"    # error as we cannot change the value at a perticular index in a str as it is a imutable datatype"
   ]
  },
  {
   "cell_type": "code",
   "execution_count": null,
   "id": "dd6c96af-56c6-4f6d-840a-f64e35e8931b",
   "metadata": {},
   "outputs": [],
   "source": []
  }
 ],
 "metadata": {
  "kernelspec": {
   "display_name": "Python 3 (ipykernel)",
   "language": "python",
   "name": "python3"
  },
  "language_info": {
   "codemirror_mode": {
    "name": "ipython",
    "version": 3
   },
   "file_extension": ".py",
   "mimetype": "text/x-python",
   "name": "python",
   "nbconvert_exporter": "python",
   "pygments_lexer": "ipython3",
   "version": "3.10.8"
  }
 },
 "nbformat": 4,
 "nbformat_minor": 5
}
