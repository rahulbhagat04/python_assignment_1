{
 "cells": [
  {
   "cell_type": "code",
   "execution_count": 20,
   "id": "9716f977-c62f-49a0-913c-cda5a310baed",
   "metadata": {},
   "outputs": [
    {
     "name": "stdin",
     "output_type": "stream",
     "text": [
      "enter the value of A 100\n"
     ]
    }
   ],
   "source": [
    "A=int(input(\"enter the value of A\"))"
   ]
  },
  {
   "cell_type": "code",
   "execution_count": 26,
   "id": "e6789821-a369-439f-9c39-7348b515a7f5",
   "metadata": {
    "tags": []
   },
   "outputs": [
    {
     "name": "stdin",
     "output_type": "stream",
     "text": [
      "enter the value of B 3\n"
     ]
    }
   ],
   "source": [
    "B=int(input(\"enter the value of B\"))"
   ]
  },
  {
   "cell_type": "code",
   "execution_count": 27,
   "id": "70231d42-99fc-465c-83a2-64c9c26511d4",
   "metadata": {},
   "outputs": [],
   "source": [
    "count=0\n",
    "temp=A"
   ]
  },
  {
   "cell_type": "code",
   "execution_count": 23,
   "id": "39a60a69-94a2-4d07-8ebc-178f4a1fc30e",
   "metadata": {},
   "outputs": [],
   "source": [
    "while(temp%B==0):\n",
    "    temp=temp//B\n",
    "    count+=1"
   ]
  },
  {
   "cell_type": "code",
   "execution_count": 25,
   "id": "1e304d9f-9554-4529-81a1-ab6a4b53d9ae",
   "metadata": {},
   "outputs": [
    {
     "name": "stdout",
     "output_type": "stream",
     "text": [
      "the number 100 is purely divisible by number 2\n",
      "it is divisible 2 times purely\n"
     ]
    }
   ],
   "source": [
    "if A%B==0:\n",
    "    print(\"the number\", A ,\"is purely divisible by number\", B)\n",
    "    print(\"it is divisible\", count ,\"times purely\")\n",
    "else:\n",
    "    print(\"the number\", A ,\"is NOT purely divisible by number\", B)"
   ]
  },
  {
   "cell_type": "code",
   "execution_count": null,
   "id": "fd8ef553-31ea-4e8b-ac31-68dbffbc1f45",
   "metadata": {},
   "outputs": [],
   "source": []
  }
 ],
 "metadata": {
  "kernelspec": {
   "display_name": "Python 3 (ipykernel)",
   "language": "python",
   "name": "python3"
  },
  "language_info": {
   "codemirror_mode": {
    "name": "ipython",
    "version": 3
   },
   "file_extension": ".py",
   "mimetype": "text/x-python",
   "name": "python",
   "nbconvert_exporter": "python",
   "pygments_lexer": "ipython3",
   "version": "3.10.8"
  }
 },
 "nbformat": 4,
 "nbformat_minor": 5
}
