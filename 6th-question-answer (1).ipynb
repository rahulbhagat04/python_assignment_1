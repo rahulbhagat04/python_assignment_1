{
 "cells": [
  {
   "cell_type": "code",
   "execution_count": 1,
   "id": "3f86687e-787c-4256-accc-f807868148da",
   "metadata": {},
   "outputs": [],
   "source": [
    "#Q6. Create a list containing 25 int type data. Using for loop and if-else condition print if the element is\n",
    "#    divisible by 3 or not."
   ]
  },
  {
   "cell_type": "code",
   "execution_count": 2,
   "id": "b70e3476-1be7-43a9-be75-5bb439e8621f",
   "metadata": {},
   "outputs": [],
   "source": [
    "l=[1,2,3,4,5,6,7,8,9,10,11,12,13,14,15,16,17,18,19,20,21,22,23,24,25]"
   ]
  },
  {
   "cell_type": "code",
   "execution_count": 3,
   "id": "0449e9a8-54ff-4bef-b2eb-e28a248e4181",
   "metadata": {},
   "outputs": [
    {
     "data": {
      "text/plain": [
       "list"
      ]
     },
     "execution_count": 3,
     "metadata": {},
     "output_type": "execute_result"
    }
   ],
   "source": [
    "type(l)"
   ]
  },
  {
   "cell_type": "code",
   "execution_count": 4,
   "id": "252123fe-123e-4a3c-a570-22e0c2de0d9a",
   "metadata": {},
   "outputs": [
    {
     "name": "stdout",
     "output_type": "stream",
     "text": [
      "the element 1  is not divisible by 3\n",
      "the element 2  is not divisible by 3\n",
      "the element 3  is divisible by 3\n",
      "the element 4  is not divisible by 3\n",
      "the element 5  is not divisible by 3\n",
      "the element 6  is divisible by 3\n",
      "the element 7  is not divisible by 3\n",
      "the element 8  is not divisible by 3\n",
      "the element 9  is divisible by 3\n",
      "the element 10  is not divisible by 3\n",
      "the element 11  is not divisible by 3\n",
      "the element 12  is divisible by 3\n",
      "the element 13  is not divisible by 3\n",
      "the element 14  is not divisible by 3\n",
      "the element 15  is divisible by 3\n",
      "the element 16  is not divisible by 3\n",
      "the element 17  is not divisible by 3\n",
      "the element 18  is divisible by 3\n",
      "the element 19  is not divisible by 3\n",
      "the element 20  is not divisible by 3\n",
      "the element 21  is divisible by 3\n",
      "the element 22  is not divisible by 3\n",
      "the element 23  is not divisible by 3\n",
      "the element 24  is divisible by 3\n",
      "the element 25  is not divisible by 3\n"
     ]
    }
   ],
   "source": [
    "for i in l:\n",
    "    if i%3==0:\n",
    "        print(\"the element\", i ,\" is divisible by 3\")\n",
    "    else:\n",
    "        print(\"the element\", i , \" is not divisible by 3\")"
   ]
  },
  {
   "cell_type": "code",
   "execution_count": null,
   "id": "83906d88-19cc-46fa-aac1-2a3687953f80",
   "metadata": {},
   "outputs": [],
   "source": []
  }
 ],
 "metadata": {
  "kernelspec": {
   "display_name": "Python 3 (ipykernel)",
   "language": "python",
   "name": "python3"
  },
  "language_info": {
   "codemirror_mode": {
    "name": "ipython",
    "version": 3
   },
   "file_extension": ".py",
   "mimetype": "text/x-python",
   "name": "python",
   "nbconvert_exporter": "python",
   "pygments_lexer": "ipython3",
   "version": "3.10.8"
  }
 },
 "nbformat": 4,
 "nbformat_minor": 5
}
