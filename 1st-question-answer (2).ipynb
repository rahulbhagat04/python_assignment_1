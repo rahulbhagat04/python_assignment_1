{
 "cells": [
  {
   "cell_type": "code",
   "execution_count": 15,
   "id": "46bfa3f7-0182-46bf-8aae-c9fe2fb0e64c",
   "metadata": {},
   "outputs": [],
   "source": [
    "#Q1. Create one variable containing following type of data:\n",
    "#   (i) string\n",
    "#  (ii) list\n",
    "# (iii) float\n",
    "#  (iv) tuple"
   ]
  },
  {
   "cell_type": "code",
   "execution_count": 1,
   "id": "99928f5f-c782-4f5c-b8e6-d1ba712075af",
   "metadata": {},
   "outputs": [],
   "source": [
    "a = \"rahul bhagat\""
   ]
  },
  {
   "cell_type": "code",
   "execution_count": 2,
   "id": "edfb0ef7-ee9a-46b0-99aa-e7287a3aa862",
   "metadata": {},
   "outputs": [
    {
     "data": {
      "text/plain": [
       "'rahul bhagat'"
      ]
     },
     "execution_count": 2,
     "metadata": {},
     "output_type": "execute_result"
    }
   ],
   "source": [
    "a"
   ]
  },
  {
   "cell_type": "code",
   "execution_count": 6,
   "id": "a3880a59-8352-40dd-8f56-645d962e13e3",
   "metadata": {},
   "outputs": [
    {
     "data": {
      "text/plain": [
       "str"
      ]
     },
     "execution_count": 6,
     "metadata": {},
     "output_type": "execute_result"
    }
   ],
   "source": [
    "type(a)"
   ]
  },
  {
   "cell_type": "code",
   "execution_count": 3,
   "id": "6a02b07a-89b7-4763-9987-eccf6feb676b",
   "metadata": {},
   "outputs": [],
   "source": [
    "b = [1,2,3,4,5,\"rahul\",\"eklabya\",9,10]"
   ]
  },
  {
   "cell_type": "code",
   "execution_count": 14,
   "id": "3a5d5f57-1b0c-48b3-b0d4-b63809873e68",
   "metadata": {},
   "outputs": [
    {
     "data": {
      "text/plain": [
       "[1, 2, 3, 4, 5, 'rahul', 'eklabya', 9, 10]"
      ]
     },
     "execution_count": 14,
     "metadata": {},
     "output_type": "execute_result"
    }
   ],
   "source": [
    "b"
   ]
  },
  {
   "cell_type": "code",
   "execution_count": 5,
   "id": "709ad6ca-5127-4a15-aba6-070abf9f09be",
   "metadata": {},
   "outputs": [
    {
     "data": {
      "text/plain": [
       "list"
      ]
     },
     "execution_count": 5,
     "metadata": {},
     "output_type": "execute_result"
    }
   ],
   "source": [
    "type(b)"
   ]
  },
  {
   "cell_type": "code",
   "execution_count": 7,
   "id": "35aaa3c3-ae48-4c57-a2d6-591593d8d3b1",
   "metadata": {},
   "outputs": [],
   "source": [
    "c=4.5"
   ]
  },
  {
   "cell_type": "code",
   "execution_count": 9,
   "id": "457f6c13-afc4-41b9-b77b-af7ea3eb50ff",
   "metadata": {},
   "outputs": [
    {
     "data": {
      "text/plain": [
       "4.5"
      ]
     },
     "execution_count": 9,
     "metadata": {},
     "output_type": "execute_result"
    }
   ],
   "source": [
    "c"
   ]
  },
  {
   "cell_type": "code",
   "execution_count": 10,
   "id": "64336de3-37d8-4a24-956e-91b959eb373b",
   "metadata": {},
   "outputs": [
    {
     "data": {
      "text/plain": [
       "float"
      ]
     },
     "execution_count": 10,
     "metadata": {},
     "output_type": "execute_result"
    }
   ],
   "source": [
    "type(c)"
   ]
  },
  {
   "cell_type": "code",
   "execution_count": 11,
   "id": "14d4a01d-ede1-4dfd-ad36-b2049b6f1eab",
   "metadata": {},
   "outputs": [],
   "source": [
    "d=(\"banana\",1,2,\"rahul\")"
   ]
  },
  {
   "cell_type": "code",
   "execution_count": 12,
   "id": "c3633acb-da9b-492d-b2c5-31575343ca18",
   "metadata": {},
   "outputs": [
    {
     "data": {
      "text/plain": [
       "('banana', 1, 2, 'rahul')"
      ]
     },
     "execution_count": 12,
     "metadata": {},
     "output_type": "execute_result"
    }
   ],
   "source": [
    "d"
   ]
  },
  {
   "cell_type": "code",
   "execution_count": 13,
   "id": "26b17298-ada3-47e5-922a-523072c22794",
   "metadata": {},
   "outputs": [
    {
     "data": {
      "text/plain": [
       "tuple"
      ]
     },
     "execution_count": 13,
     "metadata": {},
     "output_type": "execute_result"
    }
   ],
   "source": [
    "type(d)"
   ]
  },
  {
   "cell_type": "code",
   "execution_count": null,
   "id": "1d95eee3-9c82-4a4a-abc2-de7aa54471b8",
   "metadata": {},
   "outputs": [],
   "source": []
  }
 ],
 "metadata": {
  "kernelspec": {
   "display_name": "Python 3 (ipykernel)",
   "language": "python",
   "name": "python3"
  },
  "language_info": {
   "codemirror_mode": {
    "name": "ipython",
    "version": 3
   },
   "file_extension": ".py",
   "mimetype": "text/x-python",
   "name": "python",
   "nbconvert_exporter": "python",
   "pygments_lexer": "ipython3",
   "version": "3.10.8"
  }
 },
 "nbformat": 4,
 "nbformat_minor": 5
}
