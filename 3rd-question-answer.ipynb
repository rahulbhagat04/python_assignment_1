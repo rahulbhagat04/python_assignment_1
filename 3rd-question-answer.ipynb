{
 "cells": [
  {
   "cell_type": "code",
   "execution_count": 11,
   "id": "5fe9a534-4b25-4e32-a55f-8db277b620a8",
   "metadata": {},
   "outputs": [],
   "source": [
    "#Q3. Explain the use of the following operators using an example:\n",
    "#    (i) /\n",
    "#   (ii) %\n",
    "#  (iii) //\n",
    "#   (iv) **"
   ]
  },
  {
   "cell_type": "code",
   "execution_count": 1,
   "id": "f9b8b6da-3c85-4782-87f9-059913d2ecdc",
   "metadata": {},
   "outputs": [],
   "source": [
    "a=12"
   ]
  },
  {
   "cell_type": "code",
   "execution_count": 2,
   "id": "3ee73430-6ba3-4556-9013-b99f28c99fb1",
   "metadata": {},
   "outputs": [],
   "source": [
    "b=2"
   ]
  },
  {
   "cell_type": "code",
   "execution_count": 3,
   "id": "7e363c96-b999-4ebf-bd86-bef242ee3b0a",
   "metadata": {},
   "outputs": [],
   "source": [
    "c=a/b           # *** it is a arithmetic operator used for divison of two numbers ***"
   ]
  },
  {
   "cell_type": "code",
   "execution_count": 4,
   "id": "37a37e93-b0ba-44b8-9e12-724ee319204a",
   "metadata": {},
   "outputs": [
    {
     "data": {
      "text/plain": [
       "6.0"
      ]
     },
     "execution_count": 4,
     "metadata": {},
     "output_type": "execute_result"
    }
   ],
   "source": [
    "c"
   ]
  },
  {
   "cell_type": "code",
   "execution_count": 5,
   "id": "accc4bc0-7615-46a8-aedb-577ea92dacc6",
   "metadata": {},
   "outputs": [],
   "source": [
    "d=a%b           # *** it is a arithmetic operator used for modulus of two numbers ***"
   ]
  },
  {
   "cell_type": "code",
   "execution_count": 6,
   "id": "a0539abf-c59a-4ec9-8bcc-314b2684a4a0",
   "metadata": {},
   "outputs": [
    {
     "data": {
      "text/plain": [
       "0"
      ]
     },
     "execution_count": 6,
     "metadata": {},
     "output_type": "execute_result"
    }
   ],
   "source": [
    "d"
   ]
  },
  {
   "cell_type": "code",
   "execution_count": 7,
   "id": "39043af8-212f-4685-94fa-81a5b057c202",
   "metadata": {},
   "outputs": [],
   "source": [
    "f=a//b          # *** it is a arithmetic operator used for floor divison of two numbers ***"
   ]
  },
  {
   "cell_type": "code",
   "execution_count": 8,
   "id": "334bcc15-e6c4-41b6-9b55-5ffe98a1171a",
   "metadata": {},
   "outputs": [
    {
     "data": {
      "text/plain": [
       "6"
      ]
     },
     "execution_count": 8,
     "metadata": {},
     "output_type": "execute_result"
    }
   ],
   "source": [
    "f"
   ]
  },
  {
   "cell_type": "code",
   "execution_count": 9,
   "id": "2e8625b3-57f4-4a5e-95a3-8c26987e264f",
   "metadata": {},
   "outputs": [],
   "source": [
    "g=a**b           # *** it is a arithmetic operator used for exponentiation of two numbers ***"
   ]
  },
  {
   "cell_type": "code",
   "execution_count": 10,
   "id": "a68fdc1b-7405-4726-ae5e-c5400f8fea15",
   "metadata": {},
   "outputs": [
    {
     "data": {
      "text/plain": [
       "144"
      ]
     },
     "execution_count": 10,
     "metadata": {},
     "output_type": "execute_result"
    }
   ],
   "source": [
    "g"
   ]
  },
  {
   "cell_type": "code",
   "execution_count": null,
   "id": "f3e9430a-2613-4e11-9eda-0c2101bf2d59",
   "metadata": {},
   "outputs": [],
   "source": []
  }
 ],
 "metadata": {
  "kernelspec": {
   "display_name": "Python 3 (ipykernel)",
   "language": "python",
   "name": "python3"
  },
  "language_info": {
   "codemirror_mode": {
    "name": "ipython",
    "version": 3
   },
   "file_extension": ".py",
   "mimetype": "text/x-python",
   "name": "python",
   "nbconvert_exporter": "python",
   "pygments_lexer": "ipython3",
   "version": "3.10.8"
  }
 },
 "nbformat": 4,
 "nbformat_minor": 5
}
